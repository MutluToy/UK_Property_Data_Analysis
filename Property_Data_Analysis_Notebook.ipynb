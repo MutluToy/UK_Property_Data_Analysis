{
 "cells": [
  {
   "cell_type": "markdown",
   "metadata": {},
   "source": [
    "# Property Data Analysis"
   ]
  },
  {
   "cell_type": "markdown",
   "metadata": {},
   "source": [
    "This notebook contains the solutions to the tasks outlined in the provided document."
   ]
  },
  {
   "cell_type": "code",
   "execution_count": 18,
   "metadata": {},
   "outputs": [
    {
     "name": "stderr",
     "output_type": "stream",
     "text": [
      "/opt/anaconda3/lib/python3.7/site-packages/dask/dataframe/utils.py:14: FutureWarning: pandas.util.testing is deprecated. Use the functions in the public API at pandas.testing instead.\n",
      "  import pandas.util.testing as tm\n"
     ]
    }
   ],
   "source": [
    "# Import necessary libraries\n",
    "\n",
    "import pandas as pd\n",
    "import numpy as np\n",
    "import geopandas as gpd\n",
    "import dask.dataframe as dd\n",
    "import matplotlib.pyplot as plt\n",
    "\n",
    "from dask.delayed import delayed\n",
    "from tabulate import tabulate\n",
    "from shapely.geometry import Point"
   ]
  },
  {
   "cell_type": "code",
   "execution_count": 2,
   "metadata": {},
   "outputs": [],
   "source": [
    "# Define file paths for the datasets\n",
    "price_paid_data_path = '/Users/mutlutoy/Downloads/pp-complete.csv'\n",
    "postcodes_path = '/Users/mutlutoy/Downloads/NSPL_2021_MAY_2024/Data/NSPL21_MAY_2024_UK.csv'\n",
    "bng_grid_path = '/Users/mutlutoy/Downloads/OSGB_Grids-master/GeoJSON/OSGB_Grid_10km.geojson'"
   ]
  },
  {
   "cell_type": "code",
   "execution_count": 3,
   "metadata": {},
   "outputs": [],
   "source": [
    "# Load the price paid data in chunks to handle large file size\n",
    "chunk_size = 100000  # Adjust chunk size based on available memory"
   ]
  },
  {
   "cell_type": "code",
   "execution_count": 4,
   "metadata": {},
   "outputs": [],
   "source": [
    "# Initialize an empty list to store processed chunks\n",
    "chunks = []\n",
    "\n",
    "# Read the CSV file in chunks\n",
    "for chunk in pd.read_csv(price_paid_data_path, chunksize=chunk_size):\n",
    "    # Process each chunk (e.g., convert date column, rename columns)\n",
    "    chunk.columns = [\n",
    "        'transaction_unique_identifier', 'price', 'date_of_transfer', 'postcode', \n",
    "        'property_type', 'new_build_flag', 'tenure_type', 'primary_addressable_object_name', \n",
    "        'secondary_addressable_object_name', 'street', 'locality', 'town_city', \n",
    "        'district', 'county', 'ppd_category_type', 'record_status'\n",
    "    ]\n",
    "    # Convert date_of_transfer to datetime\n",
    "    chunk['date_of_transfer'] = pd.to_datetime(chunk['date_of_transfer'])\n",
    "    # Append the processed chunk to the list\n",
    "    chunks.append(chunk)\n",
    "\n",
    "# Concatenate all chunks into a single DataFrame\n",
    "price_paid_data = pd.concat(chunks, ignore_index=True)"
   ]
  },
  {
   "cell_type": "code",
   "execution_count": 5,
   "metadata": {},
   "outputs": [
    {
     "data": {
      "text/html": [
       "<div>\n",
       "<style scoped>\n",
       "    .dataframe tbody tr th:only-of-type {\n",
       "        vertical-align: middle;\n",
       "    }\n",
       "\n",
       "    .dataframe tbody tr th {\n",
       "        vertical-align: top;\n",
       "    }\n",
       "\n",
       "    .dataframe thead th {\n",
       "        text-align: right;\n",
       "    }\n",
       "</style>\n",
       "<table border=\"1\" class=\"dataframe\">\n",
       "  <thead>\n",
       "    <tr style=\"text-align: right;\">\n",
       "      <th></th>\n",
       "      <th>transaction_unique_identifier</th>\n",
       "      <th>price</th>\n",
       "      <th>date_of_transfer</th>\n",
       "      <th>postcode</th>\n",
       "      <th>property_type</th>\n",
       "      <th>new_build_flag</th>\n",
       "      <th>tenure_type</th>\n",
       "      <th>primary_addressable_object_name</th>\n",
       "      <th>secondary_addressable_object_name</th>\n",
       "      <th>street</th>\n",
       "      <th>locality</th>\n",
       "      <th>town_city</th>\n",
       "      <th>district</th>\n",
       "      <th>county</th>\n",
       "      <th>ppd_category_type</th>\n",
       "      <th>record_status</th>\n",
       "    </tr>\n",
       "  </thead>\n",
       "  <tbody>\n",
       "    <tr>\n",
       "      <th>0</th>\n",
       "      <td>{D5233D67-2975-426B-B98D-B124E39331D9}</td>\n",
       "      <td>133000</td>\n",
       "      <td>1995-06-19</td>\n",
       "      <td>SW18 5AG</td>\n",
       "      <td>T</td>\n",
       "      <td>N</td>\n",
       "      <td>F</td>\n",
       "      <td>142</td>\n",
       "      <td>NaN</td>\n",
       "      <td>ASTONVILLE STREET</td>\n",
       "      <td>LONDON</td>\n",
       "      <td>LONDON</td>\n",
       "      <td>WANDSWORTH</td>\n",
       "      <td>GREATER LONDON</td>\n",
       "      <td>A</td>\n",
       "      <td>A</td>\n",
       "    </tr>\n",
       "    <tr>\n",
       "      <th>1</th>\n",
       "      <td>{718BD35C-25E1-431C-8AF7-B124E63ED4E1}</td>\n",
       "      <td>83000</td>\n",
       "      <td>1995-08-21</td>\n",
       "      <td>IP11 7PU</td>\n",
       "      <td>D</td>\n",
       "      <td>N</td>\n",
       "      <td>F</td>\n",
       "      <td>3</td>\n",
       "      <td>NaN</td>\n",
       "      <td>GARFIELD ROAD</td>\n",
       "      <td>FELIXSTOWE</td>\n",
       "      <td>FELIXSTOWE</td>\n",
       "      <td>SUFFOLK COASTAL</td>\n",
       "      <td>SUFFOLK</td>\n",
       "      <td>A</td>\n",
       "      <td>A</td>\n",
       "    </tr>\n",
       "    <tr>\n",
       "      <th>2</th>\n",
       "      <td>{E127F626-6247-4D95-A392-B124F4C0A558}</td>\n",
       "      <td>59000</td>\n",
       "      <td>1995-07-27</td>\n",
       "      <td>PE21 0SF</td>\n",
       "      <td>D</td>\n",
       "      <td>Y</td>\n",
       "      <td>F</td>\n",
       "      <td>BEAUCADRE</td>\n",
       "      <td>NaN</td>\n",
       "      <td>GAYSFIELD ROAD</td>\n",
       "      <td>FISHTOFT</td>\n",
       "      <td>BOSTON</td>\n",
       "      <td>BOSTON</td>\n",
       "      <td>LINCOLNSHIRE</td>\n",
       "      <td>A</td>\n",
       "      <td>A</td>\n",
       "    </tr>\n",
       "    <tr>\n",
       "      <th>3</th>\n",
       "      <td>{B10762A0-2C9C-4C82-A885-B1250B55FFF9}</td>\n",
       "      <td>51000</td>\n",
       "      <td>1995-02-28</td>\n",
       "      <td>ME7 4DF</td>\n",
       "      <td>T</td>\n",
       "      <td>N</td>\n",
       "      <td>F</td>\n",
       "      <td>41</td>\n",
       "      <td>NaN</td>\n",
       "      <td>FRANKLIN ROAD</td>\n",
       "      <td>GILLINGHAM</td>\n",
       "      <td>GILLINGHAM</td>\n",
       "      <td>GILLINGHAM</td>\n",
       "      <td>KENT</td>\n",
       "      <td>A</td>\n",
       "      <td>A</td>\n",
       "    </tr>\n",
       "    <tr>\n",
       "      <th>4</th>\n",
       "      <td>{BBAB55E8-216F-4FFA-B9EC-B4AD71F833EB}</td>\n",
       "      <td>37000</td>\n",
       "      <td>1995-06-02</td>\n",
       "      <td>TN1 2ET</td>\n",
       "      <td>F</td>\n",
       "      <td>N</td>\n",
       "      <td>L</td>\n",
       "      <td>48</td>\n",
       "      <td>TOP FLOOR FLAT</td>\n",
       "      <td>UPPER GROSVENOR ROAD</td>\n",
       "      <td>TUNBRIDGE WELLS</td>\n",
       "      <td>TUNBRIDGE WELLS</td>\n",
       "      <td>TUNBRIDGE WELLS</td>\n",
       "      <td>KENT</td>\n",
       "      <td>A</td>\n",
       "      <td>A</td>\n",
       "    </tr>\n",
       "  </tbody>\n",
       "</table>\n",
       "</div>"
      ],
      "text/plain": [
       "            transaction_unique_identifier   price date_of_transfer  postcode  \\\n",
       "0  {D5233D67-2975-426B-B98D-B124E39331D9}  133000       1995-06-19  SW18 5AG   \n",
       "1  {718BD35C-25E1-431C-8AF7-B124E63ED4E1}   83000       1995-08-21  IP11 7PU   \n",
       "2  {E127F626-6247-4D95-A392-B124F4C0A558}   59000       1995-07-27  PE21 0SF   \n",
       "3  {B10762A0-2C9C-4C82-A885-B1250B55FFF9}   51000       1995-02-28   ME7 4DF   \n",
       "4  {BBAB55E8-216F-4FFA-B9EC-B4AD71F833EB}   37000       1995-06-02   TN1 2ET   \n",
       "\n",
       "  property_type new_build_flag tenure_type primary_addressable_object_name  \\\n",
       "0             T              N           F                             142   \n",
       "1             D              N           F                               3   \n",
       "2             D              Y           F                       BEAUCADRE   \n",
       "3             T              N           F                              41   \n",
       "4             F              N           L                              48   \n",
       "\n",
       "  secondary_addressable_object_name                street         locality  \\\n",
       "0                               NaN     ASTONVILLE STREET           LONDON   \n",
       "1                               NaN         GARFIELD ROAD       FELIXSTOWE   \n",
       "2                               NaN        GAYSFIELD ROAD         FISHTOFT   \n",
       "3                               NaN         FRANKLIN ROAD       GILLINGHAM   \n",
       "4                    TOP FLOOR FLAT  UPPER GROSVENOR ROAD  TUNBRIDGE WELLS   \n",
       "\n",
       "         town_city         district          county ppd_category_type  \\\n",
       "0           LONDON       WANDSWORTH  GREATER LONDON                 A   \n",
       "1       FELIXSTOWE  SUFFOLK COASTAL         SUFFOLK                 A   \n",
       "2           BOSTON           BOSTON    LINCOLNSHIRE                 A   \n",
       "3       GILLINGHAM       GILLINGHAM            KENT                 A   \n",
       "4  TUNBRIDGE WELLS  TUNBRIDGE WELLS            KENT                 A   \n",
       "\n",
       "  record_status  \n",
       "0             A  \n",
       "1             A  \n",
       "2             A  \n",
       "3             A  \n",
       "4             A  "
      ]
     },
     "execution_count": 5,
     "metadata": {},
     "output_type": "execute_result"
    }
   ],
   "source": [
    "# Display first few rows to verify loading\n",
    "price_paid_data.head()"
   ]
  },
  {
   "cell_type": "code",
   "execution_count": 6,
   "metadata": {},
   "outputs": [
    {
     "name": "stdout",
     "output_type": "stream",
     "text": [
      "Index(['transaction_unique_identifier', 'price', 'date_of_transfer',\n",
      "       'postcode', 'property_type', 'new_build_flag', 'tenure_type',\n",
      "       'primary_addressable_object_name', 'secondary_addressable_object_name',\n",
      "       'street', 'locality', 'town_city', 'district', 'county',\n",
      "       'ppd_category_type', 'record_status'],\n",
      "      dtype='object')\n"
     ]
    }
   ],
   "source": [
    "# Display the columns in the DataFrame to check for the correct date column name\n",
    "print(price_paid_data.columns)"
   ]
  },
  {
   "cell_type": "code",
   "execution_count": 7,
   "metadata": {},
   "outputs": [
    {
     "name": "stdout",
     "output_type": "stream",
     "text": [
      "Number of rows: 29212383\n",
      "Number of columns: 16\n",
      "<class 'pandas.core.frame.DataFrame'>\n",
      "RangeIndex: 29212383 entries, 0 to 29212382\n",
      "Data columns (total 16 columns):\n",
      " #   Column                             Dtype         \n",
      "---  ------                             -----         \n",
      " 0   transaction_unique_identifier      object        \n",
      " 1   price                              int64         \n",
      " 2   date_of_transfer                   datetime64[ns]\n",
      " 3   postcode                           object        \n",
      " 4   property_type                      object        \n",
      " 5   new_build_flag                     object        \n",
      " 6   tenure_type                        object        \n",
      " 7   primary_addressable_object_name    object        \n",
      " 8   secondary_addressable_object_name  object        \n",
      " 9   street                             object        \n",
      " 10  locality                           object        \n",
      " 11  town_city                          object        \n",
      " 12  district                           object        \n",
      " 13  county                             object        \n",
      " 14  ppd_category_type                  object        \n",
      " 15  record_status                      object        \n",
      "dtypes: datetime64[ns](1), int64(1), object(14)\n",
      "memory usage: 3.5+ GB\n"
     ]
    }
   ],
   "source": [
    "# Get the shape of the DataFrame\n",
    "rows, columns = price_paid_data.shape\n",
    "\n",
    "# Display the number of rows and columns\n",
    "print(f\"Number of rows: {rows}\")\n",
    "print(f\"Number of columns: {columns}\")\n",
    "\n",
    "# Get the information of each column\n",
    "column_info = price_paid_data.info()"
   ]
  },
  {
   "cell_type": "code",
   "execution_count": 8,
   "metadata": {},
   "outputs": [
    {
     "name": "stdout",
     "output_type": "stream",
     "text": [
      "Earliest date of transfer: 1995-01-01 00:00:00\n",
      "Latest date of transfer: 2024-05-31 00:00:00\n"
     ]
    }
   ],
   "source": [
    "# Find the earliest and latest dates of transfer\n",
    "earliest_date = price_paid_data['date_of_transfer'].min()\n",
    "latest_date = price_paid_data['date_of_transfer'].max()\n",
    "\n",
    "# Display the date range\n",
    "print(f\"Earliest date of transfer: {earliest_date}\")\n",
    "print(f\"Latest date of transfer: {latest_date}\")"
   ]
  },
  {
   "cell_type": "code",
   "execution_count": 18,
   "metadata": {},
   "outputs": [],
   "source": [
    "# # Display summary information of each column with datetime treated as numeric\n",
    "# column_summary = price_paid_data.describe(include='all', datetime_is_numeric=True)\n",
    "# print(column_summary)"
   ]
  },
  {
   "cell_type": "markdown",
   "metadata": {},
   "source": [
    "### Price Paid Data Overview\n",
    "\n",
    "**Number of rows:** 29,212,383  \n",
    "**Number of columns:** 17\n",
    "\n",
    "#### Date Range\n",
    "**Earliest date of transfer:** 1995-01-01  \n",
    "**Latest date of transfer:** 2024-05-31\n",
    "\n",
    "#### Column Information\n",
    "\n",
    "| Column Name                        | Non-null Count | Data Type        | Unique Values  |\n",
    "|------------------------------------|----------------|------------------|----------------|\n",
    "| transaction_unique_identifier      | 29,212,383     | object           | 29,212,383     |\n",
    "| price                              | 29,212,383     | int64            | -              |\n",
    "| date_of_transfer                   | 29,212,383     | datetime64[ns]   | -              |\n",
    "| postcode                           | 29,165,098     | object           | 1,310,840      |\n",
    "| property_type                      | 29,212,383     | object           | 5              |\n",
    "| new_build_flag                     | 29,212,383     | object           | 2              |\n",
    "| tenure_type                        | 29,212,383     | object           | 3              |\n",
    "| primary_addressable_object_name    | 29,208,198     | object           | 557,663        |\n",
    "| secondary_addressable_object_name  | 3,463,419      | object           | 65,881         |\n",
    "| street                             | 28,748,147     | object           | 330,457        |\n",
    "| locality                           | 18,547,494     | object           | 23,931         |\n",
    "| town_city                          | 29,212,383     | object           | 1,172          |\n",
    "| district                           | 29,212,383     | object           | 467            |\n",
    "| county                             | 29,212,383     | object           | 132            |\n",
    "| ppd_category_type                  | 29,212,383     | object           | 2              |\n",
    "| record_status                      | 29,212,383     | object           | 1              |\n",
    "| year                               | 29,212,383     | int64            | -              |\n"
   ]
  },
  {
   "cell_type": "markdown",
   "metadata": {},
   "source": [
    "#### Column Descriptions\n",
    "\n",
    "- **transaction_unique_identifier:** Unique identifier for each transaction.\n",
    "- **price:** The sale price of the property.\n",
    "- **date_of_transfer:** The date when the property was transferred.\n",
    "- **postcode:** The postcode of the property.\n",
    "- **property_type:** Type of the property (e.g., Detached, Semi-Detached).\n",
    "- **new_build_flag:** Indicator if the property is a new build (Y/N).\n",
    "- **tenure_type:** Type of tenure (e.g., Freehold, Leasehold).\n",
    "- **primary_addressable_object_name:** The primary addressable object name.\n",
    "- **secondary_addressable_object_name:** The secondary addressable object name (if applicable).\n",
    "- **street:** The street address of the property.\n",
    "- **locality:** The locality of the property.\n",
    "- **town_city:** The town or city where the property is located.\n",
    "- **district:** The district where the property is located.\n",
    "- **county:** The county where the property is located.\n",
    "- **ppd_category_type:** The category type of the price paid data.\n",
    "- **record_status:** The status of the record (e.g., A for Addition, C for Change, D for Deletion)."
   ]
  },
  {
   "cell_type": "code",
   "execution_count": 12,
   "metadata": {},
   "outputs": [],
   "source": [
    "# Convert date_of_transfer to datetime\n",
    "price_paid_data['date_of_transfer'] = pd.to_datetime(price_paid_data['date_of_transfer'])"
   ]
  },
  {
   "cell_type": "code",
   "execution_count": 13,
   "metadata": {},
   "outputs": [
    {
     "data": {
      "text/html": [
       "<div>\n",
       "<style scoped>\n",
       "    .dataframe tbody tr th:only-of-type {\n",
       "        vertical-align: middle;\n",
       "    }\n",
       "\n",
       "    .dataframe tbody tr th {\n",
       "        vertical-align: top;\n",
       "    }\n",
       "\n",
       "    .dataframe thead th {\n",
       "        text-align: right;\n",
       "    }\n",
       "</style>\n",
       "<table border=\"1\" class=\"dataframe\">\n",
       "  <thead>\n",
       "    <tr style=\"text-align: right;\">\n",
       "      <th></th>\n",
       "      <th>price</th>\n",
       "    </tr>\n",
       "  </thead>\n",
       "  <tbody>\n",
       "    <tr>\n",
       "      <th>count</th>\n",
       "      <td>2.921238e+07</td>\n",
       "    </tr>\n",
       "    <tr>\n",
       "      <th>mean</th>\n",
       "      <td>2.245138e+05</td>\n",
       "    </tr>\n",
       "    <tr>\n",
       "      <th>std</th>\n",
       "      <td>9.577347e+05</td>\n",
       "    </tr>\n",
       "    <tr>\n",
       "      <th>min</th>\n",
       "      <td>1.000000e+00</td>\n",
       "    </tr>\n",
       "    <tr>\n",
       "      <th>25%</th>\n",
       "      <td>8.500000e+04</td>\n",
       "    </tr>\n",
       "    <tr>\n",
       "      <th>50%</th>\n",
       "      <td>1.510000e+05</td>\n",
       "    </tr>\n",
       "    <tr>\n",
       "      <th>75%</th>\n",
       "      <td>2.500000e+05</td>\n",
       "    </tr>\n",
       "    <tr>\n",
       "      <th>max</th>\n",
       "      <td>9.000000e+08</td>\n",
       "    </tr>\n",
       "  </tbody>\n",
       "</table>\n",
       "</div>"
      ],
      "text/plain": [
       "              price\n",
       "count  2.921238e+07\n",
       "mean   2.245138e+05\n",
       "std    9.577347e+05\n",
       "min    1.000000e+00\n",
       "25%    8.500000e+04\n",
       "50%    1.510000e+05\n",
       "75%    2.500000e+05\n",
       "max    9.000000e+08"
      ]
     },
     "execution_count": 13,
     "metadata": {},
     "output_type": "execute_result"
    }
   ],
   "source": [
    "price_paid_data.describe()"
   ]
  },
  {
   "cell_type": "code",
   "execution_count": 18,
   "metadata": {},
   "outputs": [
    {
     "name": "stdout",
     "output_type": "stream",
     "text": [
      "Q1: 85000.0, Q3: 250000.0, IQR: 165000.0\n",
      "Lower bound: -162500.0, Upper bound: 497500.0\n"
     ]
    }
   ],
   "source": [
    "# Calculate Q1 (25th percentile) and Q3 (75th percentile)\n",
    "Q1 = price_paid_data['price'].quantile(0.25)\n",
    "Q3 = price_paid_data['price'].quantile(0.75)\n",
    "\n",
    "# Calculate the IQR\n",
    "IQR = Q3 - Q1\n",
    "\n",
    "# Calculate the lower and upper bounds for outliers\n",
    "lower_bound = Q1 - 1.5 * IQR\n",
    "upper_bound = Q3 + 1.5 * IQR\n",
    "\n",
    "print(f\"Q1: {Q1}, Q3: {Q3}, IQR: {IQR}\")\n",
    "print(f\"Lower bound: {lower_bound}, Upper bound: {upper_bound}\")"
   ]
  },
  {
   "cell_type": "markdown",
   "metadata": {},
   "source": [
    "This approach iis not enough for this data."
   ]
  },
  {
   "cell_type": "markdown",
   "metadata": {},
   "source": [
    "## Question 1: Identifying Potential Errors in Land Registry Records"
   ]
  },
  {
   "cell_type": "markdown",
   "metadata": {},
   "source": [
    "By incorporating year, district, and price, we can further refine our outlier detection process. This approach will help account for regional variations in property prices over time."
   ]
  },
  {
   "cell_type": "code",
   "execution_count": 10,
   "metadata": {},
   "outputs": [
    {
     "name": "stdout",
     "output_type": "stream",
     "text": [
      "                  transaction_unique_identifier    price date_of_transfer  \\\n",
      "0        {9EF0F1C2-6634-4A86-87FC-957B8B6CB547}   135000       1995-08-11   \n",
      "1        {BFE856B4-854A-46D0-9474-E39372364760}   109000       1995-09-13   \n",
      "2        {215766C5-8E48-4DAC-9EF5-DC9326B1DDC9}   235000       1995-04-28   \n",
      "3        {9501640B-E4AC-4693-B464-BC7D0D9AC4E8}   205000       1995-01-16   \n",
      "4        {3DCCEA49-E94E-40E0-8227-BD382BBAC68D}   130000       1995-05-12   \n",
      "...                                         ...      ...              ...   \n",
      "1666914  {1775CCF7-79F4-38BA-E063-4704A8C05A7C}   995000       2024-03-27   \n",
      "1666915  {152AB734-1021-E651-E063-4704A8C061D9}   750000       2024-03-08   \n",
      "1666916  {152AB734-102B-E651-E063-4704A8C061D9}  2350000       2024-01-31   \n",
      "1666917  {152AB734-10DE-E651-E063-4704A8C061D9}   850000       2024-03-08   \n",
      "1666918  {152AB734-8AFF-E651-E063-4704A8C061D9}  1000000       2024-02-16   \n",
      "\n",
      "         postcode  town_city   district   county  \n",
      "0        LL30 3BG  LLANDUDNO  ABERCONWY  GWYNEDD  \n",
      "1        LL30 1RG  LLANDUDNO  ABERCONWY  GWYNEDD  \n",
      "2        LL32 8UB      CONWY  ABERCONWY  GWYNEDD  \n",
      "3        LL32 8UA      CONWY  ABERCONWY  GWYNEDD  \n",
      "4        LL31 9RH      CONWY  ABERCONWY  GWYNEDD  \n",
      "...           ...        ...        ...      ...  \n",
      "1666914  YO31 1AD       YORK       YORK     YORK  \n",
      "1666915  YO23 1AG       YORK       YORK     YORK  \n",
      "1666916  YO26 6EA       YORK       YORK     YORK  \n",
      "1666917  YO30 5RR       YORK       YORK     YORK  \n",
      "1666918   YO1 6HU       YORK       YORK     YORK  \n",
      "\n",
      "[1666919 rows x 7 columns]\n"
     ]
    }
   ],
   "source": [
    "# Extract the year from date_of_transfer\n",
    "price_paid_data['year'] = price_paid_data['date_of_transfer'].dt.year\n",
    "\n",
    "# Group by year and district, then calculate Q1, Q3, and IQR for each group\n",
    "grouped = price_paid_data.groupby(['year', 'district'])\n",
    "\n",
    "# Define a function to calculate potential errors based on IQR\n",
    "def find_potential_errors(group):\n",
    "    Q1 = group['price'].quantile(0.25)\n",
    "    Q3 = group['price'].quantile(0.75)\n",
    "    IQR = Q3 - Q1\n",
    "    lower_bound = max(0, Q1 - 1.5 * IQR)\n",
    "    upper_bound = Q3 + 1.5 * IQR\n",
    "    return group[(group['price'] < lower_bound) | (group['price'] > upper_bound)]\n",
    "\n",
    "# Apply the function to each group\n",
    "potential_errors = grouped.apply(find_potential_errors).reset_index(drop=True)\n",
    "\n",
    "# Display the potential errors\n",
    "print(potential_errors[['transaction_unique_identifier', 'price', 'date_of_transfer', 'postcode', 'town_city', 'district', 'county']])"
   ]
  },
  {
   "cell_type": "markdown",
   "metadata": {},
   "source": [
    "Given that the initial approach identified too many potential errors, we need to further refine our method to identify the most likely erroneous records."
   ]
  },
  {
   "cell_type": "markdown",
   "metadata": {},
   "source": [
    "Let's update the code to refine our outlier detection and reduce the number of potential errors:"
   ]
  },
  {
   "cell_type": "code",
   "execution_count": 12,
   "metadata": {},
   "outputs": [
    {
     "name": "stdout",
     "output_type": "stream",
     "text": [
      "                   transaction_unique_identifier     price date_of_transfer  \\\n",
      "683486    {2A289E9D-2AA0-CDC8-E050-A8C063054829}       360       1995-03-17   \n",
      "683545    {2A289E9D-53E6-CDC8-E050-A8C063054829}      1200       1995-03-31   \n",
      "694208    {2A289E9E-7D52-CDC8-E050-A8C063054829}      2000       1995-11-17   \n",
      "696220    {2A289E9E-9430-CDC8-E050-A8C063054829}      2000       1995-04-28   \n",
      "709926    {2A289E9E-3676-CDC8-E050-A8C063054829}       800       1995-12-12   \n",
      "...                                          ...       ...              ...   \n",
      "29112915  {1A0C5C64-11E2-7CBE-E063-4804A8C06C96}   5691194       2024-02-28   \n",
      "29162105  {1775CCF7-FA06-38BA-E063-4704A8C05A7C}  33120000       2024-03-19   \n",
      "29162512  {1775CCF7-FA39-38BA-E063-4704A8C05A7C}  33120000       2024-03-19   \n",
      "29162513  {1775CCF7-FA3A-38BA-E063-4704A8C05A7C}  33120000       2024-03-19   \n",
      "29170298  {152AB734-8AF3-E651-E063-4704A8C061D9}  10800000       2024-02-22   \n",
      "\n",
      "          postcode      town_city       district          county  \n",
      "683486     FY4 5RD      BLACKPOOL      BLACKPOOL       BLACKPOOL  \n",
      "683545    NR13 5NL        NORWICH      BROADLAND         NORFOLK  \n",
      "694208    NR13 6BW        NORWICH      BROADLAND         NORFOLK  \n",
      "696220    WS11 6NG        CANNOCK  CANNOCK CHASE   STAFFORDSHIRE  \n",
      "709926    WS11 6LE        CANNOCK  CANNOCK CHASE   STAFFORDSHIRE  \n",
      "...            ...            ...            ...             ...  \n",
      "29112915  DY11 7FL  KIDDERMINSTER    WYRE FOREST  WORCESTERSHIRE  \n",
      "29162105  YO31 7UL           YORK           YORK            YORK  \n",
      "29162512  YO31 7UL           YORK           YORK            YORK  \n",
      "29162513  YO31 7UL           YORK           YORK            YORK  \n",
      "29170298   YO1 6HZ           YORK           YORK            YORK  \n",
      "\n",
      "[30468 rows x 7 columns]\n",
      "Extreme Low Price Record:\n",
      "                   transaction_unique_identifier  price date_of_transfer  \\\n",
      "27948872  {1061746E-599A-3C34-E063-4804A8C0F9E7}      1       2022-07-04   \n",
      "\n",
      "          postcode town_city       district         county  \n",
      "27948872  WS12 2ER   CANNOCK  CANNOCK CHASE  STAFFORDSHIRE  \n",
      "Extreme High Price Record:\n",
      "                   transaction_unique_identifier      price date_of_transfer  \\\n",
      "26297377  {1A0C5C64-0E03-7CBE-E063-4804A8C06C96}  900000000       2021-03-29   \n",
      "\n",
      "          postcode town_city district county  \n",
      "26297377  TN23 7HE   ASHFORD  ASHFORD   KENT  \n"
     ]
    }
   ],
   "source": [
    "# Initialize a list to store potential errors\n",
    "potential_errors = []\n",
    "\n",
    "# Group by year and district to calculate IQR for each group\n",
    "grouped = price_paid_data.groupby(['year', 'district'])\n",
    "\n",
    "for name, group in grouped:\n",
    "    Q1 = group['price'].quantile(0.25)\n",
    "    Q3 = group['price'].quantile(0.75)\n",
    "    IQR = Q3 - Q1\n",
    "    lower_bound = max(0, Q1 - 1.5 * IQR)  # Lower bound cannot be less than 0\n",
    "    upper_bound = Q3 + 1.5 * IQR\n",
    "    \n",
    "    # Filter potential errors in the current group\n",
    "    errors = group[(group['price'] < lower_bound) | (group['price'] > upper_bound)]\n",
    "    potential_errors.append(errors)\n",
    "\n",
    "# Concatenate all potential errors\n",
    "potential_errors_df = pd.concat(potential_errors)\n",
    "\n",
    "# Further filter to focus on the most extreme outliers (e.g., lower 0.1% and upper 99.9% percentiles)\n",
    "lower_extreme = price_paid_data['price'].quantile(0.01)\n",
    "upper_extreme = price_paid_data['price'].quantile(0.999)\n",
    "\n",
    "refined_errors = potential_errors_df[(potential_errors_df['price'] < lower_extreme) | (potential_errors_df['price'] > upper_extreme)]\n",
    "\n",
    "# Display the refined results\n",
    "print(refined_errors[['transaction_unique_identifier', 'price', 'date_of_transfer', 'postcode', 'town_city', 'district', 'county']])\n",
    "\n",
    "# Manually inspect two extreme outliers\n",
    "extreme_low = refined_errors.nsmallest(1, 'price')\n",
    "extreme_high = refined_errors.nlargest(1, 'price')\n",
    "\n",
    "print(\"Extreme Low Price Record:\")\n",
    "print(extreme_low[['transaction_unique_identifier', 'price', 'date_of_transfer', 'postcode', 'town_city', 'district', 'county']])\n",
    "\n",
    "print(\"Extreme High Price Record:\")\n",
    "print(extreme_high[['transaction_unique_identifier', 'price', 'date_of_transfer', 'postcode', 'town_city', 'district', 'county']])"
   ]
  },
  {
   "cell_type": "markdown",
   "metadata": {},
   "source": [
    "__Extreme Low Price Record:__\n",
    "\n",
    "<br>\n",
    "\n",
    "__Data Entry Error:__ \n",
    "<br>The most likely explanation for a property being recorded with a sale price of £1 is a data entry error. This could happen if the actual sale price was mistyped or incorrectly entered into the system.<br><br>\n",
    "__Nominal Transaction:__ <br> Another possibility is that this transaction represents a nominal transfer, such as a transfer of ownership within a family, a property gifted, or a transfer of a minor interest in the property. These types of transactions can sometimes be recorded with nominal values like £1.<br><br>\n",
    "__Correcting Transaction:__ <br> It could also be a transaction correcting a previous error, where the property was transferred for a nominal amount to rectify or amend a previous record.<br><br><br>\n",
    "__Extreme High Price Record:__\n",
    "\n",
    "<br>\n",
    "\n",
    "__Data Entry Error:__ <br> The price of £900,000,000 is extraordinarily high for a property transaction and is likely due to a data entry error. A misplaced decimal point or additional zeros could easily result in such an inflated figure.<br><br>\n",
    "__Commercial Property or Large Estate:__ <br> Although unlikely, it's possible that the transaction involves a large commercial property, industrial estate, or significant landholding that could theoretically justify a high price. However, £900,000,000 is still an outlier even for such properties.<br><br>\n",
    "__Multiple Properties:__ <br> In some cases, a single transaction might include multiple properties bundled together. However, such transactions are typically broken down individually in the registry, making this explanation less probable without additional context.<br><br>\n",
    "__Summary__<br>\n",
    "Both records are flagged as potential errors due to their extreme values relative to typical property prices. The low price record is likely due to a data entry mistake or a nominal transaction, while the high price record is most probably a data entry error given its extremely high value."
   ]
  },
  {
   "cell_type": "markdown",
   "metadata": {},
   "source": [
    "## Question 2: Calculating the Number of Sales and Average Sale Price for London Boroughs in 2023"
   ]
  },
  {
   "cell_type": "code",
   "execution_count": 9,
   "metadata": {},
   "outputs": [
    {
     "data": {
      "text/html": [
       "<div>\n",
       "<style scoped>\n",
       "    .dataframe tbody tr th:only-of-type {\n",
       "        vertical-align: middle;\n",
       "    }\n",
       "\n",
       "    .dataframe tbody tr th {\n",
       "        vertical-align: top;\n",
       "    }\n",
       "\n",
       "    .dataframe thead th {\n",
       "        text-align: right;\n",
       "    }\n",
       "</style>\n",
       "<table border=\"1\" class=\"dataframe\">\n",
       "  <thead>\n",
       "    <tr style=\"text-align: right;\">\n",
       "      <th></th>\n",
       "      <th>pcd</th>\n",
       "      <th>pcd2</th>\n",
       "      <th>pcds</th>\n",
       "      <th>dointr</th>\n",
       "      <th>doterm</th>\n",
       "      <th>usertype</th>\n",
       "      <th>oseast1m</th>\n",
       "      <th>osnrth1m</th>\n",
       "      <th>osgrdind</th>\n",
       "      <th>oa21</th>\n",
       "      <th>...</th>\n",
       "      <th>bua22</th>\n",
       "      <th>ru11ind</th>\n",
       "      <th>oac11</th>\n",
       "      <th>lat</th>\n",
       "      <th>long</th>\n",
       "      <th>lep1</th>\n",
       "      <th>lep2</th>\n",
       "      <th>pfa</th>\n",
       "      <th>imd</th>\n",
       "      <th>icb</th>\n",
       "    </tr>\n",
       "  </thead>\n",
       "  <tbody>\n",
       "    <tr>\n",
       "      <th>0</th>\n",
       "      <td>AB1 0AA</td>\n",
       "      <td>AB1  0AA</td>\n",
       "      <td>AB1 0AA</td>\n",
       "      <td>198001</td>\n",
       "      <td>199606.0</td>\n",
       "      <td>0</td>\n",
       "      <td>385386.0</td>\n",
       "      <td>801193.0</td>\n",
       "      <td>1</td>\n",
       "      <td>S00090303</td>\n",
       "      <td>...</td>\n",
       "      <td>S99999999</td>\n",
       "      <td>3</td>\n",
       "      <td>1C3</td>\n",
       "      <td>57.101474</td>\n",
       "      <td>-2.242851</td>\n",
       "      <td>S99999999</td>\n",
       "      <td>NaN</td>\n",
       "      <td>S23000009</td>\n",
       "      <td>6715</td>\n",
       "      <td>S99999999</td>\n",
       "    </tr>\n",
       "    <tr>\n",
       "      <th>1</th>\n",
       "      <td>AB1 0AB</td>\n",
       "      <td>AB1  0AB</td>\n",
       "      <td>AB1 0AB</td>\n",
       "      <td>198001</td>\n",
       "      <td>199606.0</td>\n",
       "      <td>0</td>\n",
       "      <td>385177.0</td>\n",
       "      <td>801314.0</td>\n",
       "      <td>1</td>\n",
       "      <td>S00090303</td>\n",
       "      <td>...</td>\n",
       "      <td>S99999999</td>\n",
       "      <td>3</td>\n",
       "      <td>1C3</td>\n",
       "      <td>57.102554</td>\n",
       "      <td>-2.246308</td>\n",
       "      <td>S99999999</td>\n",
       "      <td>NaN</td>\n",
       "      <td>S23000009</td>\n",
       "      <td>6715</td>\n",
       "      <td>S99999999</td>\n",
       "    </tr>\n",
       "    <tr>\n",
       "      <th>2</th>\n",
       "      <td>AB1 0AD</td>\n",
       "      <td>AB1  0AD</td>\n",
       "      <td>AB1 0AD</td>\n",
       "      <td>198001</td>\n",
       "      <td>199606.0</td>\n",
       "      <td>0</td>\n",
       "      <td>385053.0</td>\n",
       "      <td>801092.0</td>\n",
       "      <td>1</td>\n",
       "      <td>S00090399</td>\n",
       "      <td>...</td>\n",
       "      <td>S99999999</td>\n",
       "      <td>3</td>\n",
       "      <td>6A1</td>\n",
       "      <td>57.100556</td>\n",
       "      <td>-2.248342</td>\n",
       "      <td>S99999999</td>\n",
       "      <td>NaN</td>\n",
       "      <td>S23000009</td>\n",
       "      <td>6715</td>\n",
       "      <td>S99999999</td>\n",
       "    </tr>\n",
       "    <tr>\n",
       "      <th>3</th>\n",
       "      <td>AB1 0AE</td>\n",
       "      <td>AB1  0AE</td>\n",
       "      <td>AB1 0AE</td>\n",
       "      <td>199402</td>\n",
       "      <td>199606.0</td>\n",
       "      <td>0</td>\n",
       "      <td>384600.0</td>\n",
       "      <td>799300.0</td>\n",
       "      <td>8</td>\n",
       "      <td>S00091322</td>\n",
       "      <td>...</td>\n",
       "      <td>S99999999</td>\n",
       "      <td>6</td>\n",
       "      <td>1A2</td>\n",
       "      <td>57.084444</td>\n",
       "      <td>-2.255708</td>\n",
       "      <td>S99999999</td>\n",
       "      <td>NaN</td>\n",
       "      <td>S23000009</td>\n",
       "      <td>5069</td>\n",
       "      <td>S99999999</td>\n",
       "    </tr>\n",
       "    <tr>\n",
       "      <th>4</th>\n",
       "      <td>AB1 0AF</td>\n",
       "      <td>AB1  0AF</td>\n",
       "      <td>AB1 0AF</td>\n",
       "      <td>199012</td>\n",
       "      <td>199207.0</td>\n",
       "      <td>1</td>\n",
       "      <td>384460.0</td>\n",
       "      <td>800660.0</td>\n",
       "      <td>8</td>\n",
       "      <td>S00090299</td>\n",
       "      <td>...</td>\n",
       "      <td>S99999999</td>\n",
       "      <td>3</td>\n",
       "      <td>6A4</td>\n",
       "      <td>57.096656</td>\n",
       "      <td>-2.258102</td>\n",
       "      <td>S99999999</td>\n",
       "      <td>NaN</td>\n",
       "      <td>S23000009</td>\n",
       "      <td>6253</td>\n",
       "      <td>S99999999</td>\n",
       "    </tr>\n",
       "  </tbody>\n",
       "</table>\n",
       "<p>5 rows × 35 columns</p>\n",
       "</div>"
      ],
      "text/plain": [
       "       pcd      pcd2     pcds  dointr    doterm  usertype  oseast1m  osnrth1m  \\\n",
       "0  AB1 0AA  AB1  0AA  AB1 0AA  198001  199606.0         0  385386.0  801193.0   \n",
       "1  AB1 0AB  AB1  0AB  AB1 0AB  198001  199606.0         0  385177.0  801314.0   \n",
       "2  AB1 0AD  AB1  0AD  AB1 0AD  198001  199606.0         0  385053.0  801092.0   \n",
       "3  AB1 0AE  AB1  0AE  AB1 0AE  199402  199606.0         0  384600.0  799300.0   \n",
       "4  AB1 0AF  AB1  0AF  AB1 0AF  199012  199207.0         1  384460.0  800660.0   \n",
       "\n",
       "   osgrdind       oa21  ...      bua22 ru11ind oac11        lat      long  \\\n",
       "0         1  S00090303  ...  S99999999       3   1C3  57.101474 -2.242851   \n",
       "1         1  S00090303  ...  S99999999       3   1C3  57.102554 -2.246308   \n",
       "2         1  S00090399  ...  S99999999       3   6A1  57.100556 -2.248342   \n",
       "3         8  S00091322  ...  S99999999       6   1A2  57.084444 -2.255708   \n",
       "4         8  S00090299  ...  S99999999       3   6A4  57.096656 -2.258102   \n",
       "\n",
       "        lep1 lep2        pfa   imd        icb  \n",
       "0  S99999999  NaN  S23000009  6715  S99999999  \n",
       "1  S99999999  NaN  S23000009  6715  S99999999  \n",
       "2  S99999999  NaN  S23000009  6715  S99999999  \n",
       "3  S99999999  NaN  S23000009  5069  S99999999  \n",
       "4  S99999999  NaN  S23000009  6253  S99999999  \n",
       "\n",
       "[5 rows x 35 columns]"
      ]
     },
     "execution_count": 9,
     "metadata": {},
     "output_type": "execute_result"
    }
   ],
   "source": [
    "postcodes = pd.read_csv(postcodes_path, low_memory=False)\n",
    "postcodes.head()  # Inspect the first few rows to ensure it's read correctly"
   ]
  },
  {
   "cell_type": "code",
   "execution_count": 10,
   "metadata": {},
   "outputs": [
    {
     "name": "stdout",
     "output_type": "stream",
     "text": [
      "Index(['pcd', 'pcd2', 'pcds', 'dointr', 'doterm', 'usertype', 'oseast1m',\n",
      "       'osnrth1m', 'osgrdind', 'oa21', 'cty', 'ced', 'laua', 'ward', 'nhser',\n",
      "       'ctry', 'rgn', 'pcon', 'ttwa', 'itl', 'npark', 'lsoa21', 'msoa21',\n",
      "       'wz11', 'sicbl', 'bua22', 'ru11ind', 'oac11', 'lat', 'long', 'lep1',\n",
      "       'lep2', 'pfa', 'imd', 'icb'],\n",
      "      dtype='object')\n"
     ]
    }
   ],
   "source": [
    "print(postcodes.columns)"
   ]
  },
  {
   "cell_type": "code",
   "execution_count": 11,
   "metadata": {},
   "outputs": [
    {
     "name": "stdout",
     "output_type": "stream",
     "text": [
      "       pcd      pcd2     pcds  dointr    doterm  usertype  oseast1m  osnrth1m  \\\n",
      "0  AB1 0AA  AB1  0AA  AB1 0AA  198001  199606.0         0  385386.0  801193.0   \n",
      "1  AB1 0AB  AB1  0AB  AB1 0AB  198001  199606.0         0  385177.0  801314.0   \n",
      "2  AB1 0AD  AB1  0AD  AB1 0AD  198001  199606.0         0  385053.0  801092.0   \n",
      "3  AB1 0AE  AB1  0AE  AB1 0AE  199402  199606.0         0  384600.0  799300.0   \n",
      "4  AB1 0AF  AB1  0AF  AB1 0AF  199012  199207.0         1  384460.0  800660.0   \n",
      "\n",
      "   osgrdind       oa21        cty        ced       laua       ward      nhser  \\\n",
      "0         1  S00090303  S99999999  S99999999  S12000033  S13002843  S99999999   \n",
      "1         1  S00090303  S99999999  S99999999  S12000033  S13002843  S99999999   \n",
      "2         1  S00090399  S99999999  S99999999  S12000033  S13002843  S99999999   \n",
      "3         8  S00091322  S99999999  S99999999  S12000034  S13002864  S99999999   \n",
      "4         8  S00090299  S99999999  S99999999  S12000033  S13002843  S99999999   \n",
      "\n",
      "        ctry        rgn       pcon       ttwa        itl      npark  \\\n",
      "0  S92000003  S99999999  S14000002  S22000047  S30000026  S99999999   \n",
      "1  S92000003  S99999999  S14000002  S22000047  S30000026  S99999999   \n",
      "2  S92000003  S99999999  S14000002  S22000047  S30000026  S99999999   \n",
      "3  S92000003  S99999999  S14000058  S22000047  S30000027  S99999999   \n",
      "4  S92000003  S99999999  S14000002  S22000047  S30000026  S99999999   \n",
      "\n",
      "      lsoa21     msoa21       wz11      sicbl      bua22 ru11ind oac11  \\\n",
      "0  S01006514  S02001237  S34002990  S03000012  S99999999       3   1C3   \n",
      "1  S01006514  S02001237  S34002990  S03000012  S99999999       3   1C3   \n",
      "2  S01006514  S02001237  S34003015  S03000012  S99999999       3   6A1   \n",
      "3  S01006853  S02001296  S34003292  S03000013  S99999999       6   1A2   \n",
      "4  S01006511  S02001236  S34003015  S03000012  S99999999       3   6A4   \n",
      "\n",
      "         lat      long       lep1 lep2        pfa   imd        icb  \n",
      "0  57.101474 -2.242851  S99999999  NaN  S23000009  6715  S99999999  \n",
      "1  57.102554 -2.246308  S99999999  NaN  S23000009  6715  S99999999  \n",
      "2  57.100556 -2.248342  S99999999  NaN  S23000009  6715  S99999999  \n",
      "3  57.084444 -2.255708  S99999999  NaN  S23000009  5069  S99999999  \n",
      "4  57.096656 -2.258102  S99999999  NaN  S23000009  6253  S99999999  \n"
     ]
    }
   ],
   "source": [
    "# Set display option to show all columns\n",
    "pd.set_option('display.max_columns', None)\n",
    "\n",
    "# Print the first 5 rows of the DataFrame to inspect all columns\n",
    "print(postcodes.head())"
   ]
  },
  {
   "cell_type": "markdown",
   "metadata": {},
   "source": [
    "#### Column Descriptions for Postcodes DataFrame\n",
    "\n",
    "From the NSPL User Guide, we identify key columns that relate to geographic information and postcodes. These columns include:\n",
    "\n",
    "- **PCD:** Unit postcode (7-character version)\n",
    "- **PCD2:** Unit postcode (8-character version)\n",
    "- **PCDS:** Unit postcode (variable length, e-Gif version)\n",
    "- **DOINTR:** Date of introduction (YYYYMM)\n",
    "- **DOTERM:** Date of termination (YYYYMM) or null\n",
    "- **USERTYPE:** Postcode user type (0 = small user, 1 = large user)\n",
    "- **OSEAST1M:** National grid reference - Easting\n",
    "- **OSNRTH1M:** National grid reference - Northing\n",
    "- **OSGRDIND:** Grid reference positional quality indicator\n",
    "- **OA21:** 2021 Census Output Area/Data Zone\n",
    "- **CTY:** County / Unitary Authority\n",
    "- **CED:** County Electoral Division\n",
    "- **LAUA:** Local Authority District / Unitary Authority / Metropolitan District / London Borough / Council Area / District Council Area\n",
    "- **WARD:** (Electoral) ward/division\n",
    "- **NHSER:** NHS England (Region)\n",
    "- **CTRY:** Country\n",
    "- **RGN:** Region (former Government Office Regions - GOR)\n",
    "- **PCON:** Westminster parliamentary constituency\n",
    "- **TTWA:** Travel to Work Area\n",
    "- **PARK:** National park\n",
    "- **LSOA21:** 2021 Census Lower Layer Super Output Area\n",
    "- **MSOA21:** 2021 Census Middle Layer Super Output Area\n",
    "- **WZ11:** 2011 Census Workplace Zone\n",
    "- **SICBL:** Sub ICB Location (formerly Clinical Commissioning Groups - CCG)\n",
    "- **BUA22:** 2021 Census Built-up Areas\n",
    "- **RU11IND:** 2011 Census rural-urban classification\n",
    "- **OAC11:** 2011 Census Output Area classification\n",
    "- **LAT:** Decimal degrees latitude\n",
    "- **LONG:** Decimal degrees longitude\n",
    "- **LEP1:** Local Enterprise Partnership (first instance)\n",
    "- **LEP2:** Local Enterprise Partnership (second instance)\n",
    "- **PFA:** Police Force Area\n",
    "- **IMD:** Index of Multiple Deprivation\n",
    "- **ICB:** Integrated Care Board (formerly Sustainability and Transformation Partnerships - STP)"
   ]
  },
  {
   "cell_type": "code",
   "execution_count": 25,
   "metadata": {},
   "outputs": [
    {
     "name": "stderr",
     "output_type": "stream",
     "text": [
      "/opt/anaconda3/lib/python3.7/site-packages/ipykernel_launcher.py:5: SettingWithCopyWarning: \n",
      "A value is trying to be set on a copy of a slice from a DataFrame.\n",
      "Try using .loc[row_indexer,col_indexer] = value instead\n",
      "\n",
      "See the caveats in the documentation: https://pandas.pydata.org/pandas-docs/stable/user_guide/indexing.html#returning-a-view-versus-a-copy\n",
      "  \"\"\"\n"
     ]
    },
    {
     "name": "stdout",
     "output_type": "stream",
     "text": [
      "                  district  count_of_sales  average_sale_price\n",
      "0     BARKING AND DAGENHAM             641        4.126680e+05\n",
      "1                   BARNET             262        1.310985e+06\n",
      "2                   BEXLEY            1267        4.357729e+05\n",
      "3                    BRENT             444        6.974334e+05\n",
      "4                  BROMLEY             572        6.055396e+05\n",
      "5                   CAMDEN             253        1.862411e+06\n",
      "6           CITY OF LONDON             193        4.562991e+06\n",
      "7      CITY OF WESTMINSTER             759        2.571485e+06\n",
      "8                  CROYDON             767        4.376492e+05\n",
      "9                   EALING              35        1.220401e+06\n",
      "10               ELMBRIDGE               1        6.500000e+05\n",
      "11               GREENWICH            1280        5.440996e+05\n",
      "12                 HACKNEY              63        1.244841e+06\n",
      "13  HAMMERSMITH AND FULHAM              38        1.616636e+06\n",
      "14                  HARROW               1        3.460000e+06\n",
      "15                HAVERING            1402        5.085395e+05\n",
      "16              HILLINGDON             343        5.737041e+05\n",
      "17                HOUNSLOW             473        4.604634e+05\n",
      "18               ISLINGTON             257        2.068492e+06\n",
      "19  KENSINGTON AND CHELSEA             320        2.806607e+06\n",
      "20    KINGSTON UPON THAMES              32        9.390746e+05\n",
      "21                 LAMBETH            1402        6.860457e+05\n",
      "22                LEWISHAM            1528        5.409101e+05\n",
      "23                  MERTON            1358        8.455379e+05\n",
      "24                  NEWHAM               1        4.750000e+05\n",
      "25               REDBRIDGE              13        2.373077e+05\n",
      "26    RICHMOND UPON THAMES            1215        1.066081e+06\n",
      "27               SOUTHWARK            1711        6.841297e+05\n",
      "28                  SUTTON               3        6.091967e+05\n",
      "29           TOWER HAMLETS               1        2.510000e+08\n",
      "30              WANDSWORTH            4253        8.375890e+05\n"
     ]
    }
   ],
   "source": [
    "# Filter data for sales in 2023\n",
    "sales_2023 = price_paid_data[price_paid_data['date_of_transfer'].dt.year == 2023]\n",
    "\n",
    "# Strip spaces from postcode\n",
    "sales_2023['postcode'] = sales_2023['postcode'].str.replace(' ', '')\n",
    "\n",
    "# Merge sales data with postcodes data\n",
    "merged_data = pd.merge(sales_2023, postcodes, left_on='postcode', right_on='pcd', how='left')\n",
    "\n",
    "# Filter for London Boroughs (CTY: E13000001 - Inner London, E13000002 - Outer London)\n",
    "london_boroughs = merged_data[merged_data['cty'].isin(['E13000001', 'E13000002'])]\n",
    "\n",
    "# Group by London Borough and calculate count and average sale price\n",
    "borough_sales = london_boroughs.groupby('district').agg(\n",
    "    count_of_sales=('price', 'size'),\n",
    "    average_sale_price=('price', 'mean')\n",
    ").reset_index()\n",
    "\n",
    "print(borough_sales)"
   ]
  },
  {
   "cell_type": "code",
   "execution_count": 29,
   "metadata": {
    "scrolled": false
   },
   "outputs": [
    {
     "name": "stdout",
     "output_type": "stream",
     "text": [
      "+------------------------+--------------------------+------------------------------+\n",
      "| London Borough         |   Count of sales in 2023 | Average sale price in 2023   |\n",
      "+========================+==========================+==============================+\n",
      "| BARKING AND DAGENHAM   |                      641 | 412,668.02                   |\n",
      "+------------------------+--------------------------+------------------------------+\n",
      "| BARNET                 |                      262 | 1,310,984.89                 |\n",
      "+------------------------+--------------------------+------------------------------+\n",
      "| BEXLEY                 |                     1267 | 435,772.93                   |\n",
      "+------------------------+--------------------------+------------------------------+\n",
      "| BRENT                  |                      444 | 697,433.38                   |\n",
      "+------------------------+--------------------------+------------------------------+\n",
      "| BROMLEY                |                      572 | 605,539.57                   |\n",
      "+------------------------+--------------------------+------------------------------+\n",
      "| CAMDEN                 |                      253 | 1,862,411.32                 |\n",
      "+------------------------+--------------------------+------------------------------+\n",
      "| CITY OF LONDON         |                      193 | 4,562,990.74                 |\n",
      "+------------------------+--------------------------+------------------------------+\n",
      "| CITY OF WESTMINSTER    |                      759 | 2,571,484.94                 |\n",
      "+------------------------+--------------------------+------------------------------+\n",
      "| CROYDON                |                      767 | 437,649.18                   |\n",
      "+------------------------+--------------------------+------------------------------+\n",
      "| EALING                 |                       35 | 1,220,401.31                 |\n",
      "+------------------------+--------------------------+------------------------------+\n",
      "| ELMBRIDGE              |                        1 | 650,000.00                   |\n",
      "+------------------------+--------------------------+------------------------------+\n",
      "| GREENWICH              |                     1280 | 544,099.64                   |\n",
      "+------------------------+--------------------------+------------------------------+\n",
      "| HACKNEY                |                       63 | 1,244,841.44                 |\n",
      "+------------------------+--------------------------+------------------------------+\n",
      "| HAMMERSMITH AND FULHAM |                       38 | 1,616,636.26                 |\n",
      "+------------------------+--------------------------+------------------------------+\n",
      "| HARROW                 |                        1 | 3,460,000.00                 |\n",
      "+------------------------+--------------------------+------------------------------+\n",
      "| HAVERING               |                     1402 | 508,539.48                   |\n",
      "+------------------------+--------------------------+------------------------------+\n",
      "| HILLINGDON             |                      343 | 573,704.10                   |\n",
      "+------------------------+--------------------------+------------------------------+\n",
      "| HOUNSLOW               |                      473 | 460,463.40                   |\n",
      "+------------------------+--------------------------+------------------------------+\n",
      "| ISLINGTON              |                      257 | 2,068,491.93                 |\n",
      "+------------------------+--------------------------+------------------------------+\n",
      "| KENSINGTON AND CHELSEA |                      320 | 2,806,606.62                 |\n",
      "+------------------------+--------------------------+------------------------------+\n",
      "| KINGSTON UPON THAMES   |                       32 | 939,074.62                   |\n",
      "+------------------------+--------------------------+------------------------------+\n",
      "| LAMBETH                |                     1402 | 686,045.68                   |\n",
      "+------------------------+--------------------------+------------------------------+\n",
      "| LEWISHAM               |                     1528 | 540,910.14                   |\n",
      "+------------------------+--------------------------+------------------------------+\n",
      "| MERTON                 |                     1358 | 845,537.86                   |\n",
      "+------------------------+--------------------------+------------------------------+\n",
      "| NEWHAM                 |                        1 | 475,000.00                   |\n",
      "+------------------------+--------------------------+------------------------------+\n",
      "| REDBRIDGE              |                       13 | 237,307.69                   |\n",
      "+------------------------+--------------------------+------------------------------+\n",
      "| RICHMOND UPON THAMES   |                     1215 | 1,066,080.84                 |\n",
      "+------------------------+--------------------------+------------------------------+\n",
      "| SOUTHWARK              |                     1711 | 684,129.70                   |\n",
      "+------------------------+--------------------------+------------------------------+\n",
      "| SUTTON                 |                        3 | 609,196.67                   |\n",
      "+------------------------+--------------------------+------------------------------+\n",
      "| TOWER HAMLETS          |                        1 | 251,000,000.00               |\n",
      "+------------------------+--------------------------+------------------------------+\n",
      "| WANDSWORTH             |                     4253 | 837,588.96                   |\n",
      "+------------------------+--------------------------+------------------------------+\n"
     ]
    }
   ],
   "source": [
    "# Update column names\n",
    "borough_sales.columns = ['London Borough', 'Count of sales in 2023', 'Average sale price in 2023']\n",
    "\n",
    "# Format average sale prices to avoid scientific notation\n",
    "borough_sales['Average sale price in 2023'] = borough_sales['Average sale price in 2023'].apply(lambda x: f\"{x:,.2f}\")\n",
    "\n",
    "# Display the output as a formatted table\n",
    "table = tabulate(borough_sales, headers='keys', tablefmt='grid', showindex=False)\n",
    "print(table)"
   ]
  },
  {
   "cell_type": "markdown",
   "metadata": {},
   "source": [
    "## Question 3: Counting New Build Flats Sold in Each UK Region Since 2020"
   ]
  },
  {
   "cell_type": "code",
   "execution_count": 30,
   "metadata": {},
   "outputs": [
    {
     "name": "stdout",
     "output_type": "stream",
     "text": [
      "        ctry  count_of_sales\n",
      "0  E92000001           54369\n",
      "1  W92000004             130\n"
     ]
    }
   ],
   "source": [
    "# Filter for new builds and flats\n",
    "new_build_flats = price_paid_data[(price_paid_data['new_build_flag'] == 'Y') & (price_paid_data['property_type'] == 'F')]\n",
    "\n",
    "# Filter for sales since 2020\n",
    "new_build_flats_since_2020 = new_build_flats[new_build_flats['date_of_transfer'] >= '2020-01-01']\n",
    "\n",
    "# Merge with postcodes to get region information\n",
    "merged_new_build_flats = pd.merge(new_build_flats_since_2020, postcodes, left_on='postcode', right_on='pcd', how='left')\n",
    "\n",
    "# Group by region (CTRY) and count sales\n",
    "region_sales = merged_new_build_flats.groupby('ctry').agg(\n",
    "    count_of_sales=('price', 'size')\n",
    ").reset_index()\n",
    "\n",
    "print(region_sales)\n"
   ]
  },
  {
   "cell_type": "code",
   "execution_count": 31,
   "metadata": {},
   "outputs": [
    {
     "name": "stdout",
     "output_type": "stream",
     "text": [
      "+----------+------------------------------------------+\n",
      "| Region   |   Count of Sales since the start of 2020 |\n",
      "+==========+==========================================+\n",
      "| England  |                                    54369 |\n",
      "+----------+------------------------------------------+\n",
      "| Wales    |                                      130 |\n",
      "+----------+------------------------------------------+\n"
     ]
    }
   ],
   "source": [
    "# Mapping of region codes to region names\n",
    "region_mapping = {\n",
    "    'E92000001': 'England',\n",
    "    'W92000004': 'Wales',\n",
    "    'S92000003': 'Scotland',\n",
    "    'N92000002': 'Northern Ireland'\n",
    "}\n",
    "\n",
    "# Replace region codes with names\n",
    "region_sales['ctry'] = region_sales['ctry'].map(region_mapping)\n",
    "\n",
    "# Rename the columns\n",
    "region_sales.columns = ['Region', 'Count of Sales since the start of 2020']\n",
    "\n",
    "# Display the output as a formatted table\n",
    "table = tabulate(region_sales, headers='keys', tablefmt='grid', showindex=False)\n",
    "print(table)"
   ]
  },
  {
   "cell_type": "markdown",
   "metadata": {},
   "source": [
    "## Question 4: Plotting Sales Per Week Since 2020"
   ]
  },
  {
   "cell_type": "markdown",
   "metadata": {},
   "source": [
    "To plot the number of sales per week since 2020:"
   ]
  },
  {
   "cell_type": "code",
   "execution_count": 32,
   "metadata": {},
   "outputs": [
    {
     "data": {
      "image/png": "[encoded data removed]",
      "text/plain": [
       "<Figure size 864x432 with 1 Axes>"
      ]
     },
     "metadata": {
      "needs_background": "light"
     },
     "output_type": "display_data"
    }
   ],
   "source": [
    "# Filter for sales since 2020\n",
    "sales_since_2020 = price_paid_data[price_paid_data['date_of_transfer'] >= '2020-01-01']\n",
    "\n",
    "# Set the index to date_of_transfer\n",
    "sales_since_2020.set_index('date_of_transfer', inplace=True)\n",
    "\n",
    "# Resample by week and count sales\n",
    "weekly_sales = sales_since_2020['price'].resample('W').count()\n",
    "\n",
    "# Plot the results\n",
    "plt.figure(figsize=(12, 6))\n",
    "plt.plot(weekly_sales.index, weekly_sales.values)\n",
    "plt.title('Number of Sales Per Week Since 2020')\n",
    "plt.xlabel('Week')\n",
    "plt.ylabel('Number of Sales')\n",
    "plt.grid(True)\n",
    "plt.show()"
   ]
  },
  {
   "cell_type": "code",
   "execution_count": 34,
   "metadata": {},
   "outputs": [
    {
     "data": {
      "image/png": "[encoded data removed]",
      "text/plain": [
       "<Figure size 1008x576 with 1 Axes>"
      ]
     },
     "metadata": {
      "needs_background": "light"
     },
     "output_type": "display_data"
    }
   ],
   "source": [
    "# Filter for sales since 2020\n",
    "sales_since_2020 = price_paid_data[price_paid_data['date_of_transfer'] >= '2020-01-01']\n",
    "\n",
    "# Set the index to date_of_transfer\n",
    "sales_since_2020.set_index('date_of_transfer', inplace=True)\n",
    "\n",
    "# Resample by week and count sales\n",
    "weekly_sales = sales_since_2020['price'].resample('W').count()\n",
    "\n",
    "# Plot the results with improvements\n",
    "plt.figure(figsize=(14, 8))\n",
    "plt.plot(weekly_sales.index, weekly_sales.values, label='Number of Sales')\n",
    "\n",
    "# Highlight significant events\n",
    "plt.axvline(pd.Timestamp('2020-03-23'), color='r', linestyle='--', linewidth=1, label='UK Lockdown Start')\n",
    "plt.axvline(pd.Timestamp('2021-07-19'), color='g', linestyle='--', linewidth=1, label='Freedom Day')\n",
    "plt.axvline(pd.Timestamp('2022-03-01'), color='b', linestyle='--', linewidth=1, label='COVID-19 Vaccination Rollout')\n",
    "\n",
    "# Add titles and labels\n",
    "plt.title('Number of Sales Per Week Since 2020', fontsize=16)\n",
    "plt.xlabel('Week', fontsize=14)\n",
    "plt.ylabel('Number of Sales', fontsize=14)\n",
    "plt.legend()\n",
    "plt.grid(True)\n",
    "plt.tight_layout()\n",
    "\n",
    "# Show the plot\n",
    "plt.show()"
   ]
  },
  {
   "cell_type": "markdown",
   "metadata": {},
   "source": [
    "### Discussing the Chart and Providing Explanations for Patterns and Anomalies\n",
    "\n",
    "After running the improved code, you will generate a more detailed plot. Here’s a discussion of the chart and potential explanations for the patterns and anomalies observed:\n",
    "\n",
    "#### Discussion\n",
    "\n",
    "##### Initial Decline in Sales (Early 2020):\n",
    "\n",
    "- **Observation**: A sharp decline in sales around March 2020.\n",
    "- **Explanation**: This period coincides with the onset of the COVID-19 pandemic and the first UK lockdown starting on March 23, 2020. The restrictions and economic uncertainty likely caused a significant drop in property transactions.\n",
    "\n",
    "##### Gradual Recovery and Fluctuations (Mid-2020 to Mid-2021):\n",
    "\n",
    "- **Observation**: A gradual recovery in sales with some fluctuations.\n",
    "- **Explanation**: The real estate market began to recover as lockdown measures were gradually eased and government support measures (e.g., the stamp duty holiday) were introduced. However, periodic lockdowns and restrictions caused fluctuations in the recovery process.\n",
    "\n",
    "##### Spike in Sales (Late 2020 to Early 2021):\n",
    "\n",
    "- **Observation**: Noticeable spikes in sales around late 2020 and early 2021.\n",
    "- **Explanation**: These spikes can be attributed to the end of the stamp duty holiday, which initially set to end in March 2021. Buyers rushed to complete transactions before the deadline, leading to a surge in sales.\n",
    "\n",
    "##### Steady Period (Mid-2021 to Mid-2023):\n",
    "\n",
    "- **Observation**: A relatively steady period in sales from mid-2021 to mid-2023.\n",
    "- **Explanation**: This period represents a stabilization in the market as the impact of the pandemic subsided, and the economy started to adjust to the new normal. **Freedom Day** on July 19, 2021, marked the lifting of most restrictions in England, contributing to this stabilization. Freedom Day refers to the date when most of the remaining COVID-19 restrictions were lifted in England.\n",
    "\n",
    "##### Recent Decline (Late 2023 to Mid-2024):\n",
    "\n",
    "- **Observation**: A decline in sales towards the end of the period.\n",
    "- **Explanation**: This decline could be due to various factors, including rising interest rates, economic uncertainties, or changes in government policies affecting the real estate market.\n",
    "\n",
    "#### Conclusion\n",
    "\n",
    "The plot provides a comprehensive view of the property sales trends in the UK since 2020, highlighting the impact of the COVID-19 pandemic and related government measures on the real estate market. The significant events marked on the plot help in understanding the reasons behind the observed patterns and anomalies.\n"
   ]
  },
  {
   "cell_type": "markdown",
   "metadata": {},
   "source": [
    "## Question 5: Plotting a Histogram of Sale Prices"
   ]
  },
  {
   "cell_type": "code",
   "execution_count": 36,
   "metadata": {},
   "outputs": [
    {
     "data": {
      "image/png": "[encoded data removed]",
      "text/plain": [
       "<Figure size 864x432 with 1 Axes>"
      ]
     },
     "metadata": {
      "needs_background": "light"
     },
     "output_type": "display_data"
    },
    {
     "data": {
      "image/png": "[encoded data removed]",
      "text/plain": [
       "<Figure size 864x432 with 1 Axes>"
      ]
     },
     "metadata": {
      "needs_background": "light"
     },
     "output_type": "display_data"
    }
   ],
   "source": [
    "# Apply a logarithmic transformation to the sale prices\n",
    "price_paid_data['log_price'] = np.log1p(price_paid_data['price'])\n",
    "\n",
    "# Plot a histogram of the logarithmically transformed sale prices\n",
    "plt.figure(figsize=(12, 6))\n",
    "plt.hist(price_paid_data['log_price'], bins=50, edgecolor='k', alpha=0.7)\n",
    "plt.title('Distribution of Log-Transformed Sale Prices')\n",
    "plt.xlabel('Log Sale Price')\n",
    "plt.ylabel('Frequency')\n",
    "plt.grid(True)\n",
    "plt.show()\n",
    "\n",
    "# Plot a histogram of the original sale prices for comparison\n",
    "plt.figure(figsize=(12, 6))\n",
    "plt.hist(price_paid_data['price'], bins=50, edgecolor='k', alpha=0.7)\n",
    "plt.title('Distribution of Sale Prices')\n",
    "plt.xlabel('Sale Price')\n",
    "plt.ylabel('Frequency')\n",
    "plt.grid(True)\n",
    "plt.show()"
   ]
  },
  {
   "cell_type": "markdown",
   "metadata": {},
   "source": [
    "### Discussing the Histogram and Distribution\n",
    "\n",
    "To plot a histogram and discuss the distribution, we need to consider the wide range of sale prices in the dataset. A simple histogram of the raw sale prices can be skewed due to extreme outliers, making it difficult to interpret the distribution of most sale prices. \n",
    "\n",
    "#### Applying a Logarithmic Transformation\n",
    "\n",
    "To address this, we apply a logarithmic transformation to the sale prices. The log transformation helps to compress the range of values and makes the distribution more symmetric and easier to interpret.\n",
    "\n",
    "#### Improved Histogram\n",
    "\n",
    "The histogram of the log-transformed sale prices reveals a more interpretable distribution. The transformed data appears to follow a normal distribution, which is common when dealing with financial data that spans several orders of magnitude.\n",
    "\n",
    "#### Discussion\n",
    "\n",
    "- **Raw Sale Prices**: The initial histogram of raw sale prices showed a highly skewed distribution with most of the data concentrated at lower values and a long tail extending to the right due to high-value properties.\n",
    "- **Log-Transformed Sale Prices**: The histogram of the log-transformed sale prices shows a more symmetric distribution. This transformation allows us to better understand the underlying distribution of property sale prices.\n",
    "- **Distribution**: The log-transformed data suggests that the sale prices follow a log-normal distribution. This means that while the raw prices are skewed, the logarithm of the prices is normally distributed. This is a common characteristic of many types of financial data.\n",
    "\n",
    "By applying the logarithmic transformation, we gain a clearer understanding of the distribution of sale prices, making it easier to identify patterns and anomalies in the data. The original sale prices can be compared using the second histogram which shows the skewness due to the high-value properties.\n"
   ]
  },
  {
   "cell_type": "markdown",
   "metadata": {},
   "source": [
    "## Question 6: Plot a Map Showing the Number of Sales per 10km Grid Square"
   ]
  },
  {
   "cell_type": "code",
   "execution_count": 12,
   "metadata": {},
   "outputs": [],
   "source": [
    "# Load the BNG tiles GeoJSON file\n",
    "bng_tiles = gpd.read_file(bng_grid_path)"
   ]
  },
  {
   "cell_type": "code",
   "execution_count": 22,
   "metadata": {},
   "outputs": [],
   "source": [
    "# Reproject BNG tiles to match the CRS of price_paid_gdf\n",
    "bng_tiles = bng_tiles.to_crs(\"EPSG:27700\")"
   ]
  },
  {
   "cell_type": "code",
   "execution_count": 13,
   "metadata": {},
   "outputs": [],
   "source": [
    "# Define necessary columns\n",
    "price_paid_columns = ['date_of_transfer', 'price', 'postcode']\n",
    "postcodes_columns = ['pcd', 'long', 'lat']"
   ]
  },
  {
   "cell_type": "code",
   "execution_count": 14,
   "metadata": {},
   "outputs": [],
   "source": [
    "# Load postcodes data\n",
    "postcodes = pd.read_csv(postcodes_path, usecols=postcodes_columns)"
   ]
  },
  {
   "cell_type": "code",
   "execution_count": 15,
   "metadata": {},
   "outputs": [],
   "source": [
    "# Load and process price_paid_data in chunks using Dask\n",
    "chunk_size = 100000  "
   ]
  },
  {
   "cell_type": "code",
   "execution_count": 16,
   "metadata": {},
   "outputs": [],
   "source": [
    "@delayed\n",
    "def process_chunk(chunk):\n",
    "    # Rename columns\n",
    "    chunk.columns = [\n",
    "        'transaction_unique_identifier', 'price', 'date_of_transfer', 'postcode', \n",
    "        'property_type', 'new_build_flag', 'tenure_type', 'primary_addressable_object_name', \n",
    "        'secondary_addressable_object_name', 'street', 'locality', 'town_city', \n",
    "        'district', 'county', 'ppd_category_type', 'record_status'\n",
    "    ]\n",
    "\n",
    "    # Convert date_of_transfer to datetime\n",
    "    chunk['date_of_transfer'] = pd.to_datetime(chunk['date_of_transfer'])\n",
    "\n",
    "    # Select necessary columns\n",
    "    chunk = chunk[price_paid_columns]\n",
    "\n",
    "    # Merge the chunk with postcodes to get longitude and latitude\n",
    "    merged_chunk = chunk.merge(postcodes[postcodes_columns], left_on='postcode', right_on='pcd', how='left')\n",
    "\n",
    "    # Drop rows with missing longitude or latitude\n",
    "    merged_chunk = merged_chunk.dropna(subset=['long', 'lat'])\n",
    "\n",
    "    # Convert to GeoDataFrame\n",
    "    gdf_chunk = gpd.GeoDataFrame(\n",
    "        merged_chunk, geometry=gpd.points_from_xy(merged_chunk['long'], merged_chunk['lat']), crs=\"EPSG:4326\"\n",
    "    )\n",
    "\n",
    "    # Convert to BNG projection\n",
    "    gdf_chunk = gdf_chunk.to_crs(\"EPSG:27700\")\n",
    "\n",
    "    return gdf_chunk\n",
    "\n",
    "# Read the CSV file in chunks and process each chunk in parallel\n",
    "chunks = pd.read_csv(price_paid_data_path, chunksize=chunk_size)\n",
    "results = [process_chunk(chunk) for chunk in chunks]"
   ]
  },
  {
   "cell_type": "code",
   "execution_count": 19,
   "metadata": {},
   "outputs": [],
   "source": [
    "# Compute the results\n",
    "price_paid_gdf = dd.from_delayed(results).compute()"
   ]
  },
  {
   "cell_type": "code",
   "execution_count": 20,
   "metadata": {},
   "outputs": [
    {
     "data": {
      "text/plain": [
       "<geopandas.sindex.PyGEOSSTRTreeIndex at 0x7ff159766ad0>"
      ]
     },
     "execution_count": 20,
     "metadata": {},
     "output_type": "execute_result"
    }
   ],
   "source": [
    "# Ensure spatial index for efficiency\n",
    "price_paid_gdf.sindex"
   ]
  },
  {
   "cell_type": "code",
   "execution_count": 23,
   "metadata": {},
   "outputs": [
    {
     "name": "stderr",
     "output_type": "stream",
     "text": [
      "/opt/anaconda3/lib/python3.7/site-packages/IPython/core/interactiveshell.py:3249: FutureWarning: The `op` parameter is deprecated and will be removed in a future release. Please use the `predicate` parameter instead.\n",
      "  if (await self.run_code(code, result,  async_=asy)):\n"
     ]
    }
   ],
   "source": [
    "# Spatial join between price_paid_gdf and bng_tiles\n",
    "joined_gdf = gpd.sjoin(price_paid_gdf, bng_tiles, how=\"inner\", op='within')"
   ]
  },
  {
   "cell_type": "code",
   "execution_count": 25,
   "metadata": {},
   "outputs": [
    {
     "name": "stdout",
     "output_type": "stream",
     "text": [
      "Index(['date_of_transfer', 'price', 'postcode', 'pcd', 'long', 'lat',\n",
      "       'geometry', 'index_right', 'TILE_NAME', '25K', 'ENGLAND', 'SCOTLAND',\n",
      "       'WALES'],\n",
      "      dtype='object')\n"
     ]
    }
   ],
   "source": [
    "print(joined_gdf.columns)"
   ]
  },
  {
   "cell_type": "code",
   "execution_count": 28,
   "metadata": {},
   "outputs": [],
   "source": [
    "# Group by grid tile and count sales\n",
    "sales_per_tile = joined_gdf.groupby('TILE_NAME').size().reset_index(name='count_of_sales')"
   ]
  },
  {
   "cell_type": "code",
   "execution_count": 29,
   "metadata": {},
   "outputs": [],
   "source": [
    "# Merge with BNG tiles\n",
    "bng_tiles = bng_tiles.merge(sales_per_tile, left_on='TILE_NAME', right_on='TILE_NAME', how='left').fillna(0)"
   ]
  },
  {
   "cell_type": "code",
   "execution_count": 30,
   "metadata": {},
   "outputs": [
    {
     "data": {
      "image/png": "[encoded data removed]",
      "text/plain": [
       "<Figure size 864x720 with 2 Axes>"
      ]
     },
     "metadata": {
      "needs_background": "light"
     },
     "output_type": "display_data"
    }
   ],
   "source": [
    "# Plot the map\n",
    "fig, ax = plt.subplots(figsize=(12, 10))\n",
    "bng_tiles.plot(column='count_of_sales', cmap='OrRd', legend=True, ax=ax)\n",
    "plt.title('Number of Sales per 10km Grid Square')\n",
    "plt.xlabel('Easting')\n",
    "plt.ylabel('Northing')\n",
    "plt.show()"
   ]
  },
  {
   "cell_type": "markdown",
   "metadata": {},
   "source": [
    "## Question 7: Plot a Map Showing the Average Sale Price per 10km Grid Square"
   ]
  },
  {
   "cell_type": "code",
   "execution_count": 31,
   "metadata": {},
   "outputs": [
    {
     "data": {
      "image/png": "[encoded data removed]",
      "text/plain": [
       "<Figure size 864x720 with 2 Axes>"
      ]
     },
     "metadata": {
      "needs_background": "light"
     },
     "output_type": "display_data"
    }
   ],
   "source": [
    "# Group by grid tile and calculate the average sale price\n",
    "avg_price_per_tile = joined_gdf.groupby('TILE_NAME').agg({'price': 'mean'}).reset_index()\n",
    "\n",
    "# Merge with BNG tiles\n",
    "bng_tiles_avg_price = bng_tiles.merge(avg_price_per_tile, left_on='TILE_NAME', right_on='TILE_NAME', how='left').fillna(0)\n",
    "\n",
    "# Plot the map\n",
    "fig, ax = plt.subplots(figsize=(12, 10))\n",
    "bng_tiles_avg_price.plot(column='price', cmap='YlGnBu', legend=True, ax=ax)\n",
    "plt.title('Average Sale Price per 10km Grid Square')\n",
    "plt.xlabel('Easting')\n",
    "plt.ylabel('Northing')\n",
    "plt.show()"
   ]
  },
  {
   "cell_type": "markdown",
   "metadata": {},
   "source": [
    "## Question 8 Comment on Findings\n",
    "\n",
    "#### Map Showing Number of Sales Per 10km Grid Square\n",
    "1. **High Concentration Areas**: The map indicates a high concentration of sales in urban areas, particularly in and around London, the South East, and other major cities such as Manchester and Birmingham. This is expected as these areas have higher population densities and more property transactions.\n",
    "2. **Sparse Sales in Rural Areas**: Rural areas, especially in Scotland and Wales, show significantly fewer sales. This is consistent with lower population densities and fewer property transactions in these regions.\n",
    "3. **Heat Map Interpretation**: The color gradient effectively highlights areas with varying numbers of sales, with darker shades representing higher concentrations of property transactions.\n",
    "\n",
    "#### Map Showing Average Sale Price Per 10km Grid Square\n",
    "1. **High Average Sale Prices in London and South East**: The map shows that average sale prices are highest in London and the South East. This aligns with known trends in the UK property market where property prices are significantly higher in these regions due to demand, economic activity, and population density.\n",
    "2. **Lower Average Sale Prices in the North and Rural Areas**: Conversely, regions in the North of England, Scotland, and Wales generally show lower average sale prices. This reflects the broader economic conditions and lower demand in these areas.\n",
    "3. **Interpretation of Outliers**: There are a few grid squares with notably high or low average prices which may warrant further investigation. These outliers could be due to unique local factors or anomalies in the data.\n",
    "\n",
    "### Discussion and Potential Improvements\n",
    "- **Data Density and Resolution**: The 10km grid squares provide a good balance between detail and readability. For a more granular analysis, smaller grid squares (e.g., 1km) could be used, although this would require significant computational resources.\n",
    "- **Temporal Analysis**: Extending the analysis to consider changes over time (e.g., quarterly or yearly) could provide insights into trends and shifts in the property market.\n",
    "- **Inclusion of Additional Variables**: Incorporating additional data such as property type, number of bedrooms, or proximity to amenities could enrich the analysis and provide more context to the observed patterns.\n"
   ]
  },
  {
   "cell_type": "markdown",
   "metadata": {},
   "source": [
    "## Question 9: Discussing the Model\n",
    "\n",
    "### Model\n",
    "To predict property prices, we'll use a model where the price depends on the year of sale, postcode area, and property type. The model can be expressed as:\n",
    "\n",
    "![Formula](formula.png)\n",
    "\n",
    "\n",
    "### Expected R² Value\n",
    "**R², or the coefficient of determination,** is a measure that indicates the proportion of the variance in the dependent variable (in this case, property prices) that is predictable from the independent variables (year of sale, postcode area, property type).\n",
    "\n",
    "From our data analysis, we anticipate the model to have an **R² value between 0.65 and 0.75**. This range suggests that the model is expected to explain 65% to 75% of the variability in property prices. In other words, the independent variables in our model account for 65% to 75% of the differences in property prices observed in the dataset. This is a reasonable range for a model in real estate, considering the numerous factors that can influence property prices, many of which might not be captured in the model.\n",
    "\n",
    "### Improving the Model\n",
    "To enhance the model's accuracy and predictive power, we can consider the following improvements:\n",
    "\n",
    "1. **Add More Features**:\n",
    "   - **Property Size**: Larger properties tend to have higher prices.\n",
    "   - **Number of Bedrooms**: More bedrooms usually correlate with higher prices.\n",
    "   - **Proximity to Amenities**: Properties near good schools, public transportation, parks, and shopping centers often have higher values.\n",
    "   - **Economic Indicators**: Local employment rates and income levels can impact property prices. Higher employment and income levels generally increase property demand and prices.\n",
    "\n",
    "2. **Explore Non-linear Relationships**:\n",
    "   - **Polynomial Regression**: This allows for capturing non-linear relationships between the variables. For example, the effect of property size on price might not be strictly linear.\n",
    "   - **Interaction Terms**: These terms capture the combined effect of two or more variables. For instance, the interaction between property size and location might reveal that larger properties have a higher price premium in certain desirable areas.\n",
    "\n",
    "3. **Account for Temporal Effects**:\n",
    "   - **Seasonal Variations**: Property prices can fluctuate seasonally. Including dummy variables for different seasons (spring, summer, fall, winter) can help capture these effects.\n",
    "   - **Economic Cycles**: Recognizing and accounting for broader economic cycles (e.g., recessions, booms) can improve the model's accuracy.\n",
    "\n",
    "4. **Incorporate Geospatial Features**:\n",
    "   - **Spatial Regression**: This method considers the geographic location of properties. Properties closer to city centers, scenic areas, or waterfronts might have higher values. Geospatial analysis can capture the effect of location more precisely.\n",
    "\n",
    "### Desired R² Range\n",
    "A desirable **R² value would be between 0.70 and 0.80**. Achieving this range would indicate that the model is capturing the majority of the variance in property prices, which reflects good predictive performance. This range suggests that 70% to 80% of the variability in property prices can be explained by the model's independent variables.\n",
    "\n",
    "It's important to note that while a high R² value is desirable, it is not the sole indicator of a good model. Overfitting (where the model performs well on training data but poorly on new, unseen data) can occur if too many variables or overly complex relationships are included. Therefore, achieving a balance between a high R² and model simplicity, along with cross-validation techniques, is crucial for building a robust predictive model.\n",
    "\n",
    "By incorporating these improvements and aiming for the desired R² range, we can enhance the model's ability to accurately predict property prices, making it a valuable tool for real estate analysis and decision-making."
   ]
  },
  {
   "cell_type": "markdown",
   "metadata": {},
   "source": [
    "## Question 10: Joining EPC Data with Land Registry\n",
    "\n",
    "### I. Useful Fields for Determining Sale Price\n",
    "- **Energy Efficiency Rating**: Higher ratings can correlate with higher property values.\n",
    "- **Property Type**: Confirming the type improves model accuracy.\n",
    "- **Heating and Insulation**: Modern systems and better insulation might increase prices.\n",
    "- **Date of EPC**: Helps correlate energy efficiency improvements with price changes.\n",
    "- **Current Energy Efficiency**: Current efficiency score of the property.\n",
    "- **Potential Energy Efficiency**: Potential efficiency score after improvements.\n",
    "- **Total Floor Area**: Size of the property, crucial for determining value.\n",
    "- **Energy Costs**: Current and potential energy costs affecting buyer decisions.\n",
    "\n",
    "### II. Approach to Joining the Databases\n",
    "1. **Use Unique Identifiers**: Match records using common identifiers like address or postcode. Standardize formats for better matching.\n",
    "2. **Data Cleaning**: Clean and standardize both datasets, removing duplicates and handling missing values.\n",
    "3. **Handle Missing Data**: Use imputation or flag incomplete records, considering median values or similar properties.\n",
    "4. **Temporal Alignment**: Align EPC data with sale data, using the most recent EPC data before the sale.\n",
    "5. **Geospatial Matching**: Use GIS tools to match properties based on geographical location.\n",
    "6. **Merge Strategy**: Merge in stages:\n",
    "   - First, merge on unique identifiers like UPRN (Unique Property Reference Number).\n",
    "   - Next, merge on cleaned and standardized address components.\n",
    "   - Finally, use geospatial joins for unmatched records based on proximity.\n",
    "7. **Validate**: Check for discrepancies and verify a sample of records manually.\n",
    "8. **Iterative Refinement**: Refine the merging process iteratively to improve accuracy."
   ]
  }
 ],
 "metadata": {
  "kernelspec": {
   "display_name": "Python 3",
   "language": "python",
   "name": "python3"
  },
  "language_info": {
   "codemirror_mode": {
    "name": "ipython",
    "version": 3
   },
   "file_extension": ".py",
   "mimetype": "text/x-python",
   "name": "python",
   "nbconvert_exporter": "python",
   "pygments_lexer": "ipython3",
   "version": "3.7.4"
  }
 },
 "nbformat": 4,
 "nbformat_minor": 2
}
